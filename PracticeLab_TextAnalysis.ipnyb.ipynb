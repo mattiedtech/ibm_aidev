{
 "cells": [
  {
   "cell_type": "code",
   "execution_count": 1,
   "id": "76006775",
   "metadata": {},
   "outputs": [],
   "source": [
    "givenString =\"Lorem ipsum dolor! diam amet, consetetur Lorem magna. sed diam nonumy eirmod tempor. diam et labore? et diam magna. et diam amet.\""
   ]
  },
  {
   "cell_type": "code",
   "execution_count": 2,
   "id": "f4f2d524",
   "metadata": {},
   "outputs": [],
   "source": [
    "class TextAnalyzer(object):\n",
    "    def __init__(self, text):\n",
    "        formattedText = text.replace('.','').replace('!','').replace('?','').replace(',','')\n",
    "        formattedText = formattedText.lower()\n",
    "\n",
    "        self.fmtText = formattedText\n",
    "\n",
    "    def freqAll(self):\n",
    "        wordList = self.fmtText.split(' ')\n",
    "\n",
    "        freqMap = {}\n",
    "        for word in set(wordList):\n",
    "          freqMap[word] = wordList.count(word)\n",
    "\n",
    "        return freqMap\n",
    "    \n",
    "    def freqOf(self, word):\n",
    "        freqDict = self.freqAll()\n",
    "\n",
    "        if word in freqDict:\n",
    "            return freqDict[word]\n",
    "        else:\n",
    "            return 0"
   ]
  },
  {
   "cell_type": "code",
   "execution_count": 3,
   "id": "076aa330",
   "metadata": {},
   "outputs": [],
   "source": [
    "analyzed = TextAnalyzer(givenString)"
   ]
  },
  {
   "cell_type": "code",
   "execution_count": 5,
   "id": "8706ee1a",
   "metadata": {},
   "outputs": [
    {
     "name": "stdout",
     "output_type": "stream",
     "text": [
      "Formatted Text: lorem ipsum dolor diam amet consetetur lorem magna sed diam nonumy eirmod tempor diam et labore et diam magna et diam amet\n"
     ]
    }
   ],
   "source": [
    "print(\"Formatted Text:\", analyzed.fmtText)"
   ]
  },
  {
   "cell_type": "code",
   "execution_count": 6,
   "id": "bfeff1d3",
   "metadata": {},
   "outputs": [
    {
     "name": "stdout",
     "output_type": "stream",
     "text": [
      "{'nonumy': 1, 'diam': 5, 'eirmod': 1, 'tempor': 1, 'et': 3, 'labore': 1, 'amet': 2, 'lorem': 2, 'dolor': 1, 'consetetur': 1, 'sed': 1, 'ipsum': 1, 'magna': 2}\n"
     ]
    }
   ],
   "source": [
    "freqMap = analyzed.freqAll()\n",
    "print(freqMap)"
   ]
  },
  {
   "cell_type": "code",
   "execution_count": 7,
   "id": "80471d54",
   "metadata": {},
   "outputs": [
    {
     "name": "stdout",
     "output_type": "stream",
     "text": [
      "The word, lorem, appears 2 times.\n"
     ]
    }
   ],
   "source": [
    "word = 'lorem'\n",
    "frequency = analyzed.freqOf(word)\n",
    "print(f\"The word, {word}, appears {frequency} times.\")"
   ]
  },
  {
   "cell_type": "code",
   "execution_count": null,
   "id": "1abd8627",
   "metadata": {},
   "outputs": [],
   "source": []
  }
 ],
 "metadata": {
  "kernelspec": {
   "display_name": "Python 3",
   "language": "python",
   "name": "python3"
  },
  "language_info": {
   "codemirror_mode": {
    "name": "ipython",
    "version": 3
   },
   "file_extension": ".py",
   "mimetype": "text/x-python",
   "name": "python",
   "nbconvert_exporter": "python",
   "pygments_lexer": "ipython3",
   "version": "3.11.9"
  }
 },
 "nbformat": 4,
 "nbformat_minor": 5
}
